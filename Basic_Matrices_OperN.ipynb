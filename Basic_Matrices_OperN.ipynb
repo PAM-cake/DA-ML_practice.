{
  "nbformat": 4,
  "nbformat_minor": 0,
  "metadata": {
    "colab": {
      "provenance": [],
      "authorship_tag": "ABX9TyNhvxDzVa3FOECKS8TnyL5/",
      "include_colab_link": true
    },
    "kernelspec": {
      "name": "python3",
      "display_name": "Python 3"
    },
    "language_info": {
      "name": "python"
    }
  },
  "cells": [
    {
      "cell_type": "markdown",
      "metadata": {
        "id": "view-in-github",
        "colab_type": "text"
      },
      "source": [
        "<a href=\"https://colab.research.google.com/github/PAM-cake/DA-ML_practice./blob/main/Basic_Matrices_OperN.ipynb\" target=\"_parent\"><img src=\"https://colab.research.google.com/assets/colab-badge.svg\" alt=\"Open In Colab\"/></a>"
      ]
    },
    {
      "cell_type": "code",
      "execution_count": 1,
      "metadata": {
        "id": "1lJgaF_h8wTd"
      },
      "outputs": [],
      "source": [
        "import numpy as np"
      ]
    },
    {
      "cell_type": "markdown",
      "source": [
        "ADDITION"
      ],
      "metadata": {
        "id": "u3F4y3Bu_NV_"
      }
    },
    {
      "cell_type": "code",
      "source": [
        "#Matrix Addition\n",
        "a = np.array([[1,2,3],[4,5,6]])\n",
        "b = np.array([[7,8,9],[10,11,12]])\n",
        "c = a+b\n",
        "print(c)"
      ],
      "metadata": {
        "colab": {
          "base_uri": "https://localhost:8080/"
        },
        "id": "e1rme33V89C6",
        "outputId": "cceed334-6690-4467-d8ad-07dbc01178d1"
      },
      "execution_count": 2,
      "outputs": [
        {
          "output_type": "stream",
          "name": "stdout",
          "text": [
            "[[ 8 10 12]\n",
            " [14 16 18]]\n"
          ]
        }
      ]
    },
    {
      "cell_type": "code",
      "source": [
        "#with random value\n",
        "matrix_1 = np.random.randint(1,10, size=(4,4))\n",
        "matrix_2 = np.random.randint(1,10, size=(4,4))\n",
        "sum = matrix_1 + matrix_2\n",
        "print(sum)"
      ],
      "metadata": {
        "colab": {
          "base_uri": "https://localhost:8080/"
        },
        "id": "iu-3z7yV9G46",
        "outputId": "bfba1c35-9bcd-4de9-e95e-aae59080f6cb"
      },
      "execution_count": 5,
      "outputs": [
        {
          "output_type": "stream",
          "name": "stdout",
          "text": [
            "[[ 9 15  8  2]\n",
            " [17 10 11 14]\n",
            " [ 6  8 13  8]\n",
            " [ 9 11  2  7]]\n"
          ]
        }
      ]
    },
    {
      "cell_type": "code",
      "source": [
        "#without creating variable using inbuilt function.\n",
        "np.add(matrix_1, matrix_2)"
      ],
      "metadata": {
        "colab": {
          "base_uri": "https://localhost:8080/"
        },
        "id": "OrslfWXm9n9m",
        "outputId": "085bc227-8bc9-463f-ee3b-217eb4dc3be0"
      },
      "execution_count": 6,
      "outputs": [
        {
          "output_type": "execute_result",
          "data": {
            "text/plain": [
              "array([[ 9, 15,  8,  2],\n",
              "       [17, 10, 11, 14],\n",
              "       [ 6,  8, 13,  8],\n",
              "       [ 9, 11,  2,  7]])"
            ]
          },
          "metadata": {},
          "execution_count": 6
        }
      ]
    },
    {
      "cell_type": "markdown",
      "source": [
        "SUBTRACTION"
      ],
      "metadata": {
        "id": "IbfmLszn_QPs"
      }
    },
    {
      "cell_type": "code",
      "source": [
        "#Matrix Subraction\n",
        "matrix_1 = np.random.randint(1,10, size=(4,4))\n",
        "matrix_2 = np.random.randint(1,10, size=(4,4))\n",
        "sub = matrix_1 - matrix_2\n",
        "print(sub)"
      ],
      "metadata": {
        "colab": {
          "base_uri": "https://localhost:8080/"
        },
        "id": "STZFUdue90de",
        "outputId": "a096f9ab-3f79-49a0-8b98-0ba133f2d47b"
      },
      "execution_count": 7,
      "outputs": [
        {
          "output_type": "stream",
          "name": "stdout",
          "text": [
            "[[ 7 -1 -3  0]\n",
            " [ 2  0  0 -2]\n",
            " [ 1 -3  3  0]\n",
            " [ 1  0  2  3]]\n"
          ]
        }
      ]
    },
    {
      "cell_type": "code",
      "source": [
        "np.subtract(matrix_1, matrix_2)"
      ],
      "metadata": {
        "colab": {
          "base_uri": "https://localhost:8080/"
        },
        "id": "v1A6sj8C-Uh9",
        "outputId": "5410d6eb-3196-45fe-b365-5533249c2a94"
      },
      "execution_count": 8,
      "outputs": [
        {
          "output_type": "execute_result",
          "data": {
            "text/plain": [
              "array([[ 7, -1, -3,  0],\n",
              "       [ 2,  0,  0, -2],\n",
              "       [ 1, -3,  3,  0],\n",
              "       [ 1,  0,  2,  3]])"
            ]
          },
          "metadata": {},
          "execution_count": 8
        }
      ]
    },
    {
      "cell_type": "markdown",
      "source": [
        "MULTIPLICATION"
      ],
      "metadata": {
        "id": "5g_8uen7_T83"
      }
    },
    {
      "cell_type": "code",
      "source": [
        "#Multiplication of Vectors\n",
        "x = 5\n",
        "y = np.random.randint(1,10,size=(4,4))\n",
        "print(y)"
      ],
      "metadata": {
        "colab": {
          "base_uri": "https://localhost:8080/"
        },
        "id": "pVHJ4vvF-XXd",
        "outputId": "88bb2916-ea8f-4de5-9660-c534ef14d6cd"
      },
      "execution_count": 9,
      "outputs": [
        {
          "output_type": "stream",
          "name": "stdout",
          "text": [
            "[[5 8 7 7]\n",
            " [9 4 9 7]\n",
            " [2 3 3 5]\n",
            " [5 3 7 8]]\n"
          ]
        }
      ]
    },
    {
      "cell_type": "code",
      "source": [
        "product = x*y\n",
        "print(product)"
      ],
      "metadata": {
        "colab": {
          "base_uri": "https://localhost:8080/"
        },
        "id": "ZqIvwvts-na9",
        "outputId": "e4cd3848-d26a-45b5-c074-08f5a674cb14"
      },
      "execution_count": 10,
      "outputs": [
        {
          "output_type": "stream",
          "name": "stdout",
          "text": [
            "[[25 40 35 35]\n",
            " [45 20 45 35]\n",
            " [10 15 15 25]\n",
            " [25 15 35 40]]\n"
          ]
        }
      ]
    },
    {
      "cell_type": "code",
      "source": [
        "np.multiply(x,y)"
      ],
      "metadata": {
        "colab": {
          "base_uri": "https://localhost:8080/"
        },
        "id": "ekjglVq1-pxG",
        "outputId": "7e653d71-4fc4-42da-9652-4d8476708cf5"
      },
      "execution_count": 11,
      "outputs": [
        {
          "output_type": "execute_result",
          "data": {
            "text/plain": [
              "array([[25, 40, 35, 35],\n",
              "       [45, 20, 45, 35],\n",
              "       [10, 15, 15, 25],\n",
              "       [25, 15, 35, 40]])"
            ]
          },
          "metadata": {},
          "execution_count": 11
        }
      ]
    },
    {
      "cell_type": "code",
      "source": [
        "#Multplying Two Matrices\n",
        "matrix_1 = np.random.randint(1,10, size=(4,4))\n",
        "matrix_2 = np.random.randint(1,10, size=(4,4))\n",
        "print(matrix_1)\n",
        "print(matrix_2)"
      ],
      "metadata": {
        "colab": {
          "base_uri": "https://localhost:8080/"
        },
        "id": "2j5NMoGJ-sHx",
        "outputId": "4bb5c088-8e45-4ba2-ccd4-9accc2ea4563"
      },
      "execution_count": 12,
      "outputs": [
        {
          "output_type": "stream",
          "name": "stdout",
          "text": [
            "[[8 8 9 7]\n",
            " [5 3 2 7]\n",
            " [3 1 9 6]\n",
            " [3 7 8 2]]\n",
            "[[5 8 5 4]\n",
            " [8 4 8 1]\n",
            " [6 7 2 8]\n",
            " [5 3 5 3]]\n"
          ]
        }
      ]
    },
    {
      "cell_type": "code",
      "source": [
        "mult = np.dot(matrix_1, matrix_2)\n",
        "print(mult)"
      ],
      "metadata": {
        "colab": {
          "base_uri": "https://localhost:8080/"
        },
        "id": "qRxRUbjB-6dp",
        "outputId": "5b41555e-3257-40bc-e64c-3dd799f50156"
      },
      "execution_count": 13,
      "outputs": [
        {
          "output_type": "stream",
          "name": "stdout",
          "text": [
            "[[193 180 157 133]\n",
            " [ 96  87  88  60]\n",
            " [107 109  71 103]\n",
            " [129 114  97  89]]\n"
          ]
        }
      ]
    },
    {
      "cell_type": "code",
      "source": [
        "mult.shape"
      ],
      "metadata": {
        "colab": {
          "base_uri": "https://localhost:8080/"
        },
        "id": "Xua8fxqj_Cn5",
        "outputId": "3eb606ca-79db-4a5d-d1a3-23086ced8b24"
      },
      "execution_count": 14,
      "outputs": [
        {
          "output_type": "execute_result",
          "data": {
            "text/plain": [
              "(4, 4)"
            ]
          },
          "metadata": {},
          "execution_count": 14
        }
      ]
    },
    {
      "cell_type": "code",
      "source": [
        "np.matmul(matrix_1, matrix_2)"
      ],
      "metadata": {
        "colab": {
          "base_uri": "https://localhost:8080/"
        },
        "id": "jyfDPN3f_GmY",
        "outputId": "91df2b3a-662a-4294-cdea-1660c5abae67"
      },
      "execution_count": 15,
      "outputs": [
        {
          "output_type": "execute_result",
          "data": {
            "text/plain": [
              "array([[193, 180, 157, 133],\n",
              "       [ 96,  87,  88,  60],\n",
              "       [107, 109,  71, 103],\n",
              "       [129, 114,  97,  89]])"
            ]
          },
          "metadata": {},
          "execution_count": 15
        }
      ]
    },
    {
      "cell_type": "code",
      "source": [],
      "metadata": {
        "id": "p_chhfT1_Kku"
      },
      "execution_count": null,
      "outputs": []
    }
  ]
}